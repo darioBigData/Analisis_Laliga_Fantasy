{
 "cells": [
  {
   "cell_type": "markdown",
   "metadata": {
    "application/vnd.databricks.v1+cell": {
     "cellMetadata": {},
     "inputWidgets": {},
     "nuid": "96816ed7-b08a-4ca3-abb9-f99880c3535d",
     "showTitle": false,
     "tableResultSettingsMap": {},
     "title": ""
    }
   },
   "source": [
    "\n",
    "## Overview\n",
    "\n",
    "This notebook will show you how to create and query a table or DataFrame that you uploaded to DBFS. [DBFS](https://docs.databricks.com/user-guide/dbfs-databricks-file-system.html) is a Databricks File System that allows you to store data for querying inside of Databricks. This notebook assumes that you have a file already inside of DBFS that you would like to read from.\n",
    "\n",
    "This notebook is written in **Python** so the default cell type is Python. However, you can use different languages by using the `%LANGUAGE` syntax. Python, Scala, SQL, and R are all supported."
   ]
  },
  {
   "cell_type": "code",
   "execution_count": null,
   "metadata": {
    "application/vnd.databricks.v1+cell": {
     "cellMetadata": {
      "byteLimit": 2048000,
      "rowLimit": 10000
     },
     "inputWidgets": {},
     "nuid": "6482be4c-f067-47c9-b0ac-35c938b94601",
     "showTitle": false,
     "tableResultSettingsMap": {},
     "title": ""
    }
   },
   "outputs": [
    {
     "name": "stdout",
     "output_type": "stream",
     "text": [
      "+-----------------+---+--------------------+----------------+-----------+----------------+---------+--------------------+------------+------+--------------+----------+---------+--------------------+----------+\n",
      "|    averagePoints| id|              images|lastSeasonPoints|marketValue|            name| nickname|         playerStats|playerStatus|points|      position|positionId|     slug|                team|weekPoints|\n",
      "+-----------------+---+--------------------+----------------+-----------+----------------+---------+--------------------+------------+------+--------------+----------+---------+--------------------+----------+\n",
      "|6.176470588235294|889|{{https://assets-...|             183|   46061036|Martín Zubimendi|Zubimendi|[{false, {[1, 0],...|          ok|   105|Centrocampista|         3|zubimendi|{https://assets-f...|         6|\n",
      "+-----------------+---+--------------------+----------------+-----------+----------------+---------+--------------------+------------+------+--------------+----------+---------+--------------------+----------+\n",
      "\n"
     ]
    }
   ],
   "source": [
    "from pyspark.sql import SparkSession\n",
    "\n",
    "#Creamos una sesión de Spark\n",
    "spark = SparkSession.builder.appName(\"LecturaJSON\").getOrCreate()\n",
    "\n",
    "#Indicamos la ruta del JSON en DBFS(DataBricks File System)\n",
    "ruta_dbfs_json = \"/FileStore/tables/889_zubimendi.json\"\n",
    "\n",
    "#Leemos el JSON en un DataFrame\n",
    "df = spark.read.option(\"multiline\", \"true\").json(ruta_dbfs_json)\n",
    "\n",
    "#Mostramos el DataFrame\n",
    "df.show()"
   ]
  },
  {
   "cell_type": "code",
   "execution_count": null,
   "metadata": {
    "application/vnd.databricks.v1+cell": {
     "cellMetadata": {
      "byteLimit": 2048000,
      "rowLimit": 10000
     },
     "inputWidgets": {},
     "nuid": "9358f431-430a-4252-973d-52c7432c67bd",
     "showTitle": false,
     "tableResultSettingsMap": {},
     "title": ""
    }
   },
   "outputs": [
    {
     "name": "stdout",
     "output_type": "stream",
     "text": [
      "Out[6]: DataFrame[summary: string, averagePoints: string, id: string, lastSeasonPoints: string, marketValue: string, name: string, nickname: string, playerStatus: string, points: string, position: string, positionId: string, slug: string, weekPoints: string]"
     ]
    }
   ],
   "source": [
    "\n",
    "#Leemos el JSON en un DataFrame\n",
    "df = spark.read.option(\"multiline\", \"true\").json(ruta_dbfs_json)\n",
    "\n",
    "#Mostramos estadísticas básicas(la descripción del DF)\n",
    "df.describe()"
   ]
  },
  {
   "cell_type": "code",
   "execution_count": null,
   "metadata": {
    "application/vnd.databricks.v1+cell": {
     "cellMetadata": {
      "byteLimit": 2048000,
      "rowLimit": 10000
     },
     "inputWidgets": {},
     "nuid": "3d4b4896-f084-492c-b6e0-f82df430cf1b",
     "showTitle": false,
     "tableResultSettingsMap": {},
     "title": ""
    }
   },
   "outputs": [
    {
     "name": "stdout",
     "output_type": "stream",
     "text": [
      "root\n",
      " |-- averagePoints: double (nullable = true)\n",
      " |-- id: string (nullable = true)\n",
      " |-- images: struct (nullable = true)\n",
      " |    |-- beat: struct (nullable = true)\n",
      " |    |    |-- 1024x1024: string (nullable = true)\n",
      " |    |    |-- 128x128: string (nullable = true)\n",
      " |    |    |-- 2048x2048: string (nullable = true)\n",
      " |    |    |-- 256x256: string (nullable = true)\n",
      " |    |    |-- 512x512: string (nullable = true)\n",
      " |    |    |-- 64x64: string (nullable = true)\n",
      " |    |-- big: struct (nullable = true)\n",
      " |    |    |-- 1024x1113: string (nullable = true)\n",
      " |    |    |-- 128x139: string (nullable = true)\n",
      " |    |    |-- 2048x2225: string (nullable = true)\n",
      " |    |    |-- 256x278: string (nullable = true)\n",
      " |    |    |-- 512x556: string (nullable = true)\n",
      " |    |    |-- 64x70: string (nullable = true)\n",
      " |    |-- transparent: struct (nullable = true)\n",
      " |    |    |-- 1024x1024: string (nullable = true)\n",
      " |    |    |-- 128x128: string (nullable = true)\n",
      " |    |    |-- 2048x2048: string (nullable = true)\n",
      " |    |    |-- 256x256: string (nullable = true)\n",
      " |    |    |-- 512x512: string (nullable = true)\n",
      " |    |    |-- 64x64: string (nullable = true)\n",
      " |-- lastSeasonPoints: long (nullable = true)\n",
      " |-- marketValue: long (nullable = true)\n",
      " |-- name: string (nullable = true)\n",
      " |-- nickname: string (nullable = true)\n",
      " |-- playerStats: array (nullable = true)\n",
      " |    |-- element: struct (containsNull = true)\n",
      " |    |    |-- isInIdealFormation: boolean (nullable = true)\n",
      " |    |    |-- stats: struct (nullable = true)\n",
      " |    |    |    |-- ball_recovery: array (nullable = true)\n",
      " |    |    |    |    |-- element: long (containsNull = true)\n",
      " |    |    |    |-- effective_clearance: array (nullable = true)\n",
      " |    |    |    |    |-- element: long (containsNull = true)\n",
      " |    |    |    |-- goal_assist: array (nullable = true)\n",
      " |    |    |    |    |-- element: long (containsNull = true)\n",
      " |    |    |    |-- goals: array (nullable = true)\n",
      " |    |    |    |    |-- element: long (containsNull = true)\n",
      " |    |    |    |-- goals_conceded: array (nullable = true)\n",
      " |    |    |    |    |-- element: long (containsNull = true)\n",
      " |    |    |    |-- marca_points: array (nullable = true)\n",
      " |    |    |    |    |-- element: long (containsNull = true)\n",
      " |    |    |    |-- mins_played: array (nullable = true)\n",
      " |    |    |    |    |-- element: long (containsNull = true)\n",
      " |    |    |    |-- offtarget_att_assist: array (nullable = true)\n",
      " |    |    |    |    |-- element: long (containsNull = true)\n",
      " |    |    |    |-- own_goals: array (nullable = true)\n",
      " |    |    |    |    |-- element: long (containsNull = true)\n",
      " |    |    |    |-- pen_area_entries: array (nullable = true)\n",
      " |    |    |    |    |-- element: long (containsNull = true)\n",
      " |    |    |    |-- penalty_conceded: array (nullable = true)\n",
      " |    |    |    |    |-- element: long (containsNull = true)\n",
      " |    |    |    |-- penalty_failed: array (nullable = true)\n",
      " |    |    |    |    |-- element: long (containsNull = true)\n",
      " |    |    |    |-- penalty_save: array (nullable = true)\n",
      " |    |    |    |    |-- element: long (containsNull = true)\n",
      " |    |    |    |-- penalty_won: array (nullable = true)\n",
      " |    |    |    |    |-- element: long (containsNull = true)\n",
      " |    |    |    |-- poss_lost_all: array (nullable = true)\n",
      " |    |    |    |    |-- element: long (containsNull = true)\n",
      " |    |    |    |-- red_card: array (nullable = true)\n",
      " |    |    |    |    |-- element: long (containsNull = true)\n",
      " |    |    |    |-- saves: array (nullable = true)\n",
      " |    |    |    |    |-- element: long (containsNull = true)\n",
      " |    |    |    |-- second_yellow_card: array (nullable = true)\n",
      " |    |    |    |    |-- element: long (containsNull = true)\n",
      " |    |    |    |-- total_scoring_att: array (nullable = true)\n",
      " |    |    |    |    |-- element: long (containsNull = true)\n",
      " |    |    |    |-- won_contest: array (nullable = true)\n",
      " |    |    |    |    |-- element: long (containsNull = true)\n",
      " |    |    |    |-- yellow_card: array (nullable = true)\n",
      " |    |    |    |    |-- element: long (containsNull = true)\n",
      " |    |    |-- totalPoints: long (nullable = true)\n",
      " |    |    |-- weekNumber: long (nullable = true)\n",
      " |-- playerStatus: string (nullable = true)\n",
      " |-- points: long (nullable = true)\n",
      " |-- position: string (nullable = true)\n",
      " |-- positionId: long (nullable = true)\n",
      " |-- slug: string (nullable = true)\n",
      " |-- team: struct (nullable = true)\n",
      " |    |-- badgeColor: string (nullable = true)\n",
      " |    |-- badgeGray: string (nullable = true)\n",
      " |    |-- badgeWhite: string (nullable = true)\n",
      " |    |-- dspId: long (nullable = true)\n",
      " |    |-- id: string (nullable = true)\n",
      " |    |-- name: string (nullable = true)\n",
      " |    |-- shortName: string (nullable = true)\n",
      " |    |-- slug: string (nullable = true)\n",
      " |    |-- store: string (nullable = true)\n",
      " |-- weekPoints: long (nullable = true)\n",
      "\n"
     ]
    }
   ],
   "source": [
    "#Se imprime el esquema del DataFrame\n",
    "df.printSchema()"
   ]
  }
 ],
 "metadata": {
  "application/vnd.databricks.v1+notebook": {
   "computePreferences": null,
   "dashboards": [],
   "environmentMetadata": null,
   "language": "python",
   "notebookMetadata": {
    "pythonIndentUnit": 4
   },
   "notebookName": "FantasySpark",
   "widgets": {}
  },
  "kernelspec": {
   "display_name": "Python 3 (ipykernel)",
   "language": "python",
   "name": "python3"
  },
  "language_info": {
   "codemirror_mode": {
    "name": "ipython",
    "version": 3
   },
   "file_extension": ".py",
   "mimetype": "text/x-python",
   "name": "python",
   "nbconvert_exporter": "python",
   "pygments_lexer": "ipython3",
   "version": "3.12.3"
  }
 },
 "nbformat": 4,
 "nbformat_minor": 4
}
